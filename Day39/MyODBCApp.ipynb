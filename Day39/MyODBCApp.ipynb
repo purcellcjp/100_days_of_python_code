{
 "cells": [
  {
   "cell_type": "code",
   "execution_count": 1,
   "id": "5a9ad377",
   "metadata": {},
   "outputs": [],
   "source": [
    "import pyodbc\n",
    "import pandas as pd"
   ]
  },
  {
   "cell_type": "code",
   "execution_count": 2,
   "id": "b9998748",
   "metadata": {},
   "outputs": [],
   "source": [
    "# Connection string\n",
    "conn_str = (\n",
    "    \"Driver={SQL Server};\"\n",
    "    \"Server=DESKTOP-848TND6;\"\n",
    "    \"Database=AdventureWorks2022;\"\n",
    "    \"Trusted_Connection=yes;\"\n",
    "\n",
    ")\n",
    "\n",
    "# Create connection\n",
    "conn = pyodbc.connect(conn_str)\n",
    "\n",
    "    "
   ]
  },
  {
   "cell_type": "code",
   "execution_count": 3,
   "id": "e01d6e42",
   "metadata": {},
   "outputs": [],
   "source": [
    "query = \"\"\"\n",
    "select LoginID,\n",
    "JobTitle,\n",
    "BirthDate,\n",
    "MaritalStatus\n",
    "from HumanResources.Employee\n",
    "where (Gender = 'F')\n",
    "\"\"\"\n",
    "\n",
    "# cursor = conn.cursor()\n",
    "# # Execute query\n",
    "# cursor.execute(query)\n",
    "# rows = cursor.fetchall()\n"
   ]
  },
  {
   "cell_type": "code",
   "execution_count": 4,
   "id": "a0936a79",
   "metadata": {},
   "outputs": [
    {
     "name": "stdout",
     "output_type": "stream",
     "text": [
      "                   LoginID                           JobTitle   BirthDate  \\\n",
      "0   adventure-works\\terri0      Vice President of Engineering  1971-08-01   \n",
      "1    adventure-works\\gail0                    Design Engineer  1952-09-27   \n",
      "2   adventure-works\\diane1  Research and Development Engineer  1986-06-05   \n",
      "3    adventure-works\\gigi0  Research and Development Engineer  1979-01-21   \n",
      "4  adventure-works\\janice0                      Tool Designer  1989-05-28   \n",
      "\n",
      "  MaritalStatus  \n",
      "0             S  \n",
      "1             M  \n",
      "2             S  \n",
      "3             M  \n",
      "4             M  \n"
     ]
    },
    {
     "name": "stderr",
     "output_type": "stream",
     "text": [
      "C:\\Users\\purce\\AppData\\Local\\Temp\\ipykernel_40048\\3442072504.py:1: UserWarning: pandas only supports SQLAlchemy connectable (engine/connection) or database string URI or sqlite3 DBAPI2 connection. Other DBAPI2 objects are not tested. Please consider using SQLAlchemy.\n",
      "  df = pd.read_sql_query(query, conn)\n"
     ]
    }
   ],
   "source": [
    "df = pd.read_sql_query(query, conn)\n",
    "\n",
    "print(df.head())"
   ]
  },
  {
   "cell_type": "code",
   "execution_count": null,
   "id": "e5100b67",
   "metadata": {},
   "outputs": [],
   "source": []
  },
  {
   "cell_type": "code",
   "execution_count": 6,
   "id": "c9cbfaae",
   "metadata": {},
   "outputs": [
    {
     "ename": "ProgrammingError",
     "evalue": "Attempt to use a closed connection.",
     "output_type": "error",
     "traceback": [
      "\u001b[31m---------------------------------------------------------------------------\u001b[39m",
      "\u001b[31mProgrammingError\u001b[39m                          Traceback (most recent call last)",
      "\u001b[36mCell\u001b[39m\u001b[36m \u001b[39m\u001b[32mIn[6]\u001b[39m\u001b[32m, line 1\u001b[39m\n\u001b[32m----> \u001b[39m\u001b[32m1\u001b[39m \u001b[43mconn\u001b[49m\u001b[43m.\u001b[49m\u001b[43mclose\u001b[49m\u001b[43m(\u001b[49m\u001b[43m)\u001b[49m\n",
      "\u001b[31mProgrammingError\u001b[39m: Attempt to use a closed connection."
     ]
    }
   ],
   "source": [
    "conn.close()"
   ]
  }
 ],
 "metadata": {
  "kernelspec": {
   "display_name": ".venv",
   "language": "python",
   "name": "python3"
  },
  "language_info": {
   "codemirror_mode": {
    "name": "ipython",
    "version": 3
   },
   "file_extension": ".py",
   "mimetype": "text/x-python",
   "name": "python",
   "nbconvert_exporter": "python",
   "pygments_lexer": "ipython3",
   "version": "3.12.4"
  }
 },
 "nbformat": 4,
 "nbformat_minor": 5
}
